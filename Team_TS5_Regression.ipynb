{
 "cells": [
  {
   "cell_type": "markdown",
   "metadata": {},
   "source": [
    "# EDSA Apple Price Challenge\n",
    "#### Team TS5 Regression"
   ]
  },
  {
   "cell_type": "markdown",
   "metadata": {},
   "source": [
    "## Challenge description"
   ]
  },
  {
   "cell_type": "markdown",
   "metadata": {},
   "source": [
    "## Outline"
   ]
  },
  {
   "cell_type": "markdown",
   "metadata": {},
   "source": [
    "## Introduction"
   ]
  },
  {
   "cell_type": "markdown",
   "metadata": {},
   "source": [
    "## EDA on the `EDSA Apple Price Challenge` dataset\n",
    "\n",
    "### Basic Analysis\n",
    "\n",
    "We will be importing a few python libraries."
   ]
  },
  {
   "cell_type": "code",
   "execution_count": 1,
   "metadata": {},
   "outputs": [],
   "source": [
    "# Regression models\n",
    "from sklearn.linear_model import LinearRegression\n",
    "\n",
    "# Model selection\n",
    "from sklearn.model_selection import train_test_split\n",
    "\n",
    "# Preprocessing\n",
    "from sklearn.preprocessing import StandardScaler\n",
    "\n",
    "# Metrics\n",
    "from sklearn.metrics import r2_score\n",
    "from sklearn.metrics import mean_squared_error\n",
    "\n",
    "# Visualisations\n",
    "#import missingno\n",
    "import seaborn as sns\n",
    "import matplotlib.pyplot as plt\n",
    "#%matplotlib inline\n",
    "\n",
    "# Other\n",
    "from scipy import stats\n",
    "import math\n",
    "import pickle\n",
    "import pandas as pd\n",
    "import numpy as np"
   ]
  },
  {
   "cell_type": "markdown",
   "metadata": {},
   "source": [
    "We will be loading our data as a Pandas Dataframe. For this challenge we will be using `EDSA Apple Price Challenge` dataset."
   ]
  },
  {
   "cell_type": "code",
   "execution_count": 2,
   "metadata": {},
   "outputs": [],
   "source": [
    "train = pd.read_csv('df - train_set.csv')\n",
    "test = pd.read_csv('df - test_set.csv')\n",
    "#test_commodities = test['Commodities']\n",
    "#test = test.drop('Commodities', axis=1)\n",
    "train = train.loc[train['Commodities']=='APPLE GOLDEN DELICIOUS']\n",
    "#train = train.drop('Commodities', axis=1) # Commodities will give NaN correlation with avg_price_per_kg"
   ]
  },
  {
   "cell_type": "code",
   "execution_count": 38,
   "metadata": {},
   "outputs": [
    {
     "data": {
      "text/html": [
       "<div>\n",
       "<style scoped>\n",
       "    .dataframe tbody tr th:only-of-type {\n",
       "        vertical-align: middle;\n",
       "    }\n",
       "\n",
       "    .dataframe tbody tr th {\n",
       "        vertical-align: top;\n",
       "    }\n",
       "\n",
       "    .dataframe thead th {\n",
       "        text-align: right;\n",
       "    }\n",
       "</style>\n",
       "<table border=\"1\" class=\"dataframe\">\n",
       "  <thead>\n",
       "    <tr style=\"text-align: right;\">\n",
       "      <th></th>\n",
       "      <th>Province</th>\n",
       "      <th>Container</th>\n",
       "      <th>Size_Grade</th>\n",
       "      <th>Weight_Kg</th>\n",
       "      <th>Commodities</th>\n",
       "      <th>Date</th>\n",
       "      <th>Low_Price</th>\n",
       "      <th>High_Price</th>\n",
       "      <th>Sales_Total</th>\n",
       "      <th>Total_Qty_Sold</th>\n",
       "      <th>Total_Kg_Sold</th>\n",
       "      <th>Stock_On_Hand</th>\n",
       "      <th>avg_price_per_kg</th>\n",
       "    </tr>\n",
       "  </thead>\n",
       "  <tbody>\n",
       "    <tr>\n",
       "      <th>1</th>\n",
       "      <td>CAPE</td>\n",
       "      <td>M4183</td>\n",
       "      <td>1L</td>\n",
       "      <td>18.3</td>\n",
       "      <td>APPLE GOLDEN DELICIOUS</td>\n",
       "      <td>2020-09-09</td>\n",
       "      <td>150.0</td>\n",
       "      <td>170.0</td>\n",
       "      <td>51710.0</td>\n",
       "      <td>332</td>\n",
       "      <td>6075.6</td>\n",
       "      <td>822</td>\n",
       "      <td>8.51</td>\n",
       "    </tr>\n",
       "    <tr>\n",
       "      <th>7</th>\n",
       "      <td>CAPE</td>\n",
       "      <td>JG110</td>\n",
       "      <td>2M</td>\n",
       "      <td>11.0</td>\n",
       "      <td>APPLE GOLDEN DELICIOUS</td>\n",
       "      <td>2020-04-14</td>\n",
       "      <td>50.0</td>\n",
       "      <td>50.0</td>\n",
       "      <td>16000.0</td>\n",
       "      <td>320</td>\n",
       "      <td>3520.0</td>\n",
       "      <td>0</td>\n",
       "      <td>4.55</td>\n",
       "    </tr>\n",
       "    <tr>\n",
       "      <th>24</th>\n",
       "      <td>W.CAPE-BERGRIVER ETC</td>\n",
       "      <td>JE090</td>\n",
       "      <td>2S</td>\n",
       "      <td>9.0</td>\n",
       "      <td>APPLE GOLDEN DELICIOUS</td>\n",
       "      <td>2020-04-16</td>\n",
       "      <td>55.0</td>\n",
       "      <td>55.0</td>\n",
       "      <td>990.0</td>\n",
       "      <td>18</td>\n",
       "      <td>162.0</td>\n",
       "      <td>1506</td>\n",
       "      <td>6.11</td>\n",
       "    </tr>\n",
       "    <tr>\n",
       "      <th>40</th>\n",
       "      <td>CAPE</td>\n",
       "      <td>M4183</td>\n",
       "      <td>1S</td>\n",
       "      <td>18.3</td>\n",
       "      <td>APPLE GOLDEN DELICIOUS</td>\n",
       "      <td>2020-05-04</td>\n",
       "      <td>80.0</td>\n",
       "      <td>120.0</td>\n",
       "      <td>32020.0</td>\n",
       "      <td>388</td>\n",
       "      <td>7100.4</td>\n",
       "      <td>443</td>\n",
       "      <td>4.51</td>\n",
       "    </tr>\n",
       "    <tr>\n",
       "      <th>69</th>\n",
       "      <td>EASTERN CAPE</td>\n",
       "      <td>IA400</td>\n",
       "      <td>1S</td>\n",
       "      <td>400.0</td>\n",
       "      <td>APPLE GOLDEN DELICIOUS</td>\n",
       "      <td>2020-09-28</td>\n",
       "      <td>1800.0</td>\n",
       "      <td>1800.0</td>\n",
       "      <td>1800.0</td>\n",
       "      <td>1</td>\n",
       "      <td>400.0</td>\n",
       "      <td>2</td>\n",
       "      <td>4.50</td>\n",
       "    </tr>\n",
       "  </tbody>\n",
       "</table>\n",
       "</div>"
      ],
      "text/plain": [
       "                Province Container Size_Grade  Weight_Kg  \\\n",
       "1                   CAPE     M4183         1L       18.3   \n",
       "7                   CAPE     JG110         2M       11.0   \n",
       "24  W.CAPE-BERGRIVER ETC     JE090         2S        9.0   \n",
       "40                  CAPE     M4183         1S       18.3   \n",
       "69          EASTERN CAPE     IA400         1S      400.0   \n",
       "\n",
       "               Commodities        Date  Low_Price  High_Price  Sales_Total  \\\n",
       "1   APPLE GOLDEN DELICIOUS  2020-09-09      150.0       170.0      51710.0   \n",
       "7   APPLE GOLDEN DELICIOUS  2020-04-14       50.0        50.0      16000.0   \n",
       "24  APPLE GOLDEN DELICIOUS  2020-04-16       55.0        55.0        990.0   \n",
       "40  APPLE GOLDEN DELICIOUS  2020-05-04       80.0       120.0      32020.0   \n",
       "69  APPLE GOLDEN DELICIOUS  2020-09-28     1800.0      1800.0       1800.0   \n",
       "\n",
       "    Total_Qty_Sold  Total_Kg_Sold  Stock_On_Hand  avg_price_per_kg  \n",
       "1              332         6075.6            822              8.51  \n",
       "7              320         3520.0              0              4.55  \n",
       "24              18          162.0           1506              6.11  \n",
       "40             388         7100.4            443              4.51  \n",
       "69               1          400.0              2              4.50  "
      ]
     },
     "execution_count": 38,
     "metadata": {},
     "output_type": "execute_result"
    }
   ],
   "source": [
    "train.head()"
   ]
  },
  {
   "cell_type": "markdown",
   "metadata": {},
   "source": [
    "We look at the top rows of our data in order to see the features as well as the types of data we are working with.\n",
    "\n"
   ]
  },
  {
   "cell_type": "code",
   "execution_count": 12,
   "metadata": {},
   "outputs": [
    {
     "data": {
      "text/plain": [
       "(1952, 12)"
      ]
     },
     "execution_count": 12,
     "metadata": {},
     "output_type": "execute_result"
    }
   ],
   "source": [
    "train.shape"
   ]
  },
  {
   "cell_type": "markdown",
   "metadata": {},
   "source": [
    "The shape command shows us we have..."
   ]
  },
  {
   "cell_type": "code",
   "execution_count": 13,
   "metadata": {},
   "outputs": [
    {
     "name": "stdout",
     "output_type": "stream",
     "text": [
      "<class 'pandas.core.frame.DataFrame'>\n",
      "Int64Index: 1952 entries, 1 to 64310\n",
      "Data columns (total 12 columns):\n",
      "Province            1952 non-null object\n",
      "Container           1952 non-null object\n",
      "Size_Grade          1952 non-null object\n",
      "Weight_Kg           1952 non-null float64\n",
      "Date                1952 non-null object\n",
      "Low_Price           1952 non-null float64\n",
      "High_Price          1952 non-null float64\n",
      "Sales_Total         1952 non-null float64\n",
      "Total_Qty_Sold      1952 non-null int64\n",
      "Total_Kg_Sold       1952 non-null float64\n",
      "Stock_On_Hand       1952 non-null int64\n",
      "avg_price_per_kg    1952 non-null float64\n",
      "dtypes: float64(6), int64(2), object(4)\n",
      "memory usage: 198.2+ KB\n"
     ]
    }
   ],
   "source": [
    "train.info()"
   ]
  },
  {
   "cell_type": "markdown",
   "metadata": {},
   "source": [
    "The info command confirms our categorial and numerial features. This function tells us what columns are in the dataframe, how many null values they have and what datatype they are."
   ]
  },
  {
   "cell_type": "markdown",
   "metadata": {},
   "source": [
    "### Univariate Analysis: Non-Graphical\n",
    "\n",
    "This is where we will be looking at the descriptive statistics of each feature. We can get the descriptive statistics of each numerical feature by using the following command:\n",
    "\n",
    "     - df.describe()\n",
    "     \n",
    "This command will provide the mean, standard deviation and a five number summary of each numerical feature."
   ]
  },
  {
   "cell_type": "code",
   "execution_count": 14,
   "metadata": {},
   "outputs": [
    {
     "data": {
      "text/html": [
       "<div>\n",
       "<style scoped>\n",
       "    .dataframe tbody tr th:only-of-type {\n",
       "        vertical-align: middle;\n",
       "    }\n",
       "\n",
       "    .dataframe tbody tr th {\n",
       "        vertical-align: top;\n",
       "    }\n",
       "\n",
       "    .dataframe thead th {\n",
       "        text-align: right;\n",
       "    }\n",
       "</style>\n",
       "<table border=\"1\" class=\"dataframe\">\n",
       "  <thead>\n",
       "    <tr style=\"text-align: right;\">\n",
       "      <th></th>\n",
       "      <th>Weight_Kg</th>\n",
       "      <th>Low_Price</th>\n",
       "      <th>High_Price</th>\n",
       "      <th>Sales_Total</th>\n",
       "      <th>Total_Qty_Sold</th>\n",
       "      <th>Total_Kg_Sold</th>\n",
       "      <th>Stock_On_Hand</th>\n",
       "      <th>avg_price_per_kg</th>\n",
       "    </tr>\n",
       "  </thead>\n",
       "  <tbody>\n",
       "    <tr>\n",
       "      <th>count</th>\n",
       "      <td>1952.000000</td>\n",
       "      <td>1952.000000</td>\n",
       "      <td>1952.000000</td>\n",
       "      <td>1952.000000</td>\n",
       "      <td>1952.000000</td>\n",
       "      <td>1952.000000</td>\n",
       "      <td>1952.000000</td>\n",
       "      <td>1952.000000</td>\n",
       "    </tr>\n",
       "    <tr>\n",
       "      <th>mean</th>\n",
       "      <td>40.460912</td>\n",
       "      <td>174.307377</td>\n",
       "      <td>215.648053</td>\n",
       "      <td>20053.533811</td>\n",
       "      <td>174.510758</td>\n",
       "      <td>2960.176332</td>\n",
       "      <td>408.393955</td>\n",
       "      <td>6.778893</td>\n",
       "    </tr>\n",
       "    <tr>\n",
       "      <th>std</th>\n",
       "      <td>99.655169</td>\n",
       "      <td>373.553578</td>\n",
       "      <td>433.546159</td>\n",
       "      <td>39005.069445</td>\n",
       "      <td>308.810797</td>\n",
       "      <td>6097.416527</td>\n",
       "      <td>724.450582</td>\n",
       "      <td>2.248744</td>\n",
       "    </tr>\n",
       "    <tr>\n",
       "      <th>min</th>\n",
       "      <td>3.000000</td>\n",
       "      <td>2.000000</td>\n",
       "      <td>5.000000</td>\n",
       "      <td>5.000000</td>\n",
       "      <td>1.000000</td>\n",
       "      <td>3.000000</td>\n",
       "      <td>0.000000</td>\n",
       "      <td>0.250000</td>\n",
       "    </tr>\n",
       "    <tr>\n",
       "      <th>25%</th>\n",
       "      <td>9.000000</td>\n",
       "      <td>50.000000</td>\n",
       "      <td>60.000000</td>\n",
       "      <td>1325.000000</td>\n",
       "      <td>12.000000</td>\n",
       "      <td>219.600000</td>\n",
       "      <td>9.000000</td>\n",
       "      <td>5.460000</td>\n",
       "    </tr>\n",
       "    <tr>\n",
       "      <th>50%</th>\n",
       "      <td>12.000000</td>\n",
       "      <td>80.000000</td>\n",
       "      <td>108.000000</td>\n",
       "      <td>5495.000000</td>\n",
       "      <td>64.000000</td>\n",
       "      <td>853.500000</td>\n",
       "      <td>126.500000</td>\n",
       "      <td>6.670000</td>\n",
       "    </tr>\n",
       "    <tr>\n",
       "      <th>75%</th>\n",
       "      <td>18.300000</td>\n",
       "      <td>127.250000</td>\n",
       "      <td>160.000000</td>\n",
       "      <td>21082.500000</td>\n",
       "      <td>200.000000</td>\n",
       "      <td>3093.525000</td>\n",
       "      <td>468.000000</td>\n",
       "      <td>8.280000</td>\n",
       "    </tr>\n",
       "    <tr>\n",
       "      <th>max</th>\n",
       "      <td>400.000000</td>\n",
       "      <td>2300.000000</td>\n",
       "      <td>3300.000000</td>\n",
       "      <td>369464.000000</td>\n",
       "      <td>4237.000000</td>\n",
       "      <td>74000.000000</td>\n",
       "      <td>6400.000000</td>\n",
       "      <td>21.240000</td>\n",
       "    </tr>\n",
       "  </tbody>\n",
       "</table>\n",
       "</div>"
      ],
      "text/plain": [
       "         Weight_Kg    Low_Price   High_Price    Sales_Total  Total_Qty_Sold  \\\n",
       "count  1952.000000  1952.000000  1952.000000    1952.000000     1952.000000   \n",
       "mean     40.460912   174.307377   215.648053   20053.533811      174.510758   \n",
       "std      99.655169   373.553578   433.546159   39005.069445      308.810797   \n",
       "min       3.000000     2.000000     5.000000       5.000000        1.000000   \n",
       "25%       9.000000    50.000000    60.000000    1325.000000       12.000000   \n",
       "50%      12.000000    80.000000   108.000000    5495.000000       64.000000   \n",
       "75%      18.300000   127.250000   160.000000   21082.500000      200.000000   \n",
       "max     400.000000  2300.000000  3300.000000  369464.000000     4237.000000   \n",
       "\n",
       "       Total_Kg_Sold  Stock_On_Hand  avg_price_per_kg  \n",
       "count    1952.000000    1952.000000       1952.000000  \n",
       "mean     2960.176332     408.393955          6.778893  \n",
       "std      6097.416527     724.450582          2.248744  \n",
       "min         3.000000       0.000000          0.250000  \n",
       "25%       219.600000       9.000000          5.460000  \n",
       "50%       853.500000     126.500000          6.670000  \n",
       "75%      3093.525000     468.000000          8.280000  \n",
       "max     74000.000000    6400.000000         21.240000  "
      ]
     },
     "execution_count": 14,
     "metadata": {},
     "output_type": "execute_result"
    }
   ],
   "source": [
    "train.describe()"
   ]
  },
  {
   "cell_type": "markdown",
   "metadata": {},
   "source": [
    "Statistical measures such as **kurtosis** and **skew** can also be calculated.\n",
    "\n",
    "Kurtosis is the measure of outliers present in the data. **High kurtosis (>3)** indicates a large number of outliers and **low kurtosis (<3)** a lack there of. \n",
    "\n",
    "Skew indicates how symmetric the data is. Below is a table that explains the range of values with regards to skew.\n",
    "\n",
    "|   Skew Value (x)  |       Description of Data      |\n",
    "|:-------------------|:---------------:|\n",
    "| -0.5 < x < 0.5              |Fairly Symmetrical |\n",
    "| -1 < x < -0.5 | Moderate Negative Skew  | \n",
    "| 0.5 < x < 1             | Moderate Positive Skew  | \n",
    "|       x < -1     |High Negative Skew  | \n",
    "|       x > 1  |High Positve Skew | \n"
   ]
  },
  {
   "cell_type": "code",
   "execution_count": 21,
   "metadata": {},
   "outputs": [
    {
     "data": {
      "text/plain": [
       "Weight_Kg            9.109698\n",
       "Low_Price           17.073369\n",
       "High_Price          13.630768\n",
       "Sales_Total         24.200524\n",
       "Total_Qty_Sold      32.338123\n",
       "Total_Kg_Sold       45.153801\n",
       "Stock_On_Hand       14.671224\n",
       "avg_price_per_kg     1.042921\n",
       "dtype: float64"
      ]
     },
     "execution_count": 21,
     "metadata": {},
     "output_type": "execute_result"
    }
   ],
   "source": [
    "train.kurtosis()"
   ]
  },
  {
   "cell_type": "markdown",
   "metadata": {},
   "source": [
    "Indicates a large amount of outliers in all features except `avg_price_per_kg`"
   ]
  },
  {
   "cell_type": "code",
   "execution_count": 22,
   "metadata": {},
   "outputs": [
    {
     "data": {
      "text/plain": [
       "Weight_Kg           3.328254\n",
       "Low_Price           4.222672\n",
       "High_Price          3.828819\n",
       "Sales_Total         4.250317\n",
       "Total_Qty_Sold      4.445169\n",
       "Total_Kg_Sold       5.529586\n",
       "Stock_On_Hand       3.391815\n",
       "avg_price_per_kg    0.082452\n",
       "dtype: float64"
      ]
     },
     "execution_count": 22,
     "metadata": {},
     "output_type": "execute_result"
    }
   ],
   "source": [
    "train.skew()"
   ]
  },
  {
   "cell_type": "markdown",
   "metadata": {},
   "source": [
    "The feature `avg_price_per_kg` is moderately skewed in a positive direction, while the rest of the features are highly skewed to the right."
   ]
  },
  {
   "cell_type": "markdown",
   "metadata": {},
   "source": [
    "### Univariate Analysis: Graphical"
   ]
  },
  {
   "cell_type": "markdown",
   "metadata": {},
   "source": [
    "We can look at the distribution of any numerical feature by using the following plots:\n",
    "\n",
    "- histogram\n",
    "- density plot\n",
    "- box plot\n",
    "- violin plot\n",
    "\n",
    "\n",
    "For a categorical feature we will use a:\n",
    "\n",
    "- bar plot\n",
    "\n",
    "#### Histogram and Density Plot\n",
    "\n",
    "For displaying a histogram and density plot we will be using the Matplotlib library and create a list of all numerical features to visualise these features at the same time."
   ]
  },
  {
   "cell_type": "code",
   "execution_count": 4,
   "metadata": {},
   "outputs": [
    {
     "data": {
      "image/png": "[encoded data removed]",
      "text/plain": [
       "<Figure size 720x720 with 9 Axes>"
      ]
     },
     "metadata": {
      "needs_background": "light"
     },
     "output_type": "display_data"
    }
   ],
   "source": [
    "# create histogram\n",
    "features = ['Weight_Kg','Low_Price','High_Price','Sales_Total','Total_Qty_Sold','Total_Kg_Sold','Stock_On_Hand','avg_price_per_kg']\n",
    "train[features].hist(figsize=(10,10));"
   ]
  },
  {
   "cell_type": "code",
   "execution_count": null,
   "metadata": {},
   "outputs": [],
   "source": [
    "# create density plot"
   ]
  },
  {
   "cell_type": "markdown",
   "metadata": {},
   "source": [
    "#### Box Plot and Violin Plot\n",
    "\n",
    "For the Box Plot and Violin Plot, we will use the seaborn library and only select one feature instead of all the numerical features. We can visualise all numerical features simultaneously, but as the range of values for each feature is different, it will not create a useful visualisation."
   ]
  },
  {
   "cell_type": "code",
   "execution_count": null,
   "metadata": {},
   "outputs": [],
   "source": []
  },
  {
   "cell_type": "code",
   "execution_count": null,
   "metadata": {},
   "outputs": [],
   "source": []
  },
  {
   "cell_type": "markdown",
   "metadata": {},
   "source": [
    "### Bar Plot\n",
    "\n",
    "For the categorical features, we can create a **bar plot** to display the frequency distribution. \n"
   ]
  },
  {
   "cell_type": "code",
   "execution_count": null,
   "metadata": {},
   "outputs": [],
   "source": []
  },
  {
   "cell_type": "markdown",
   "metadata": {},
   "source": [
    "### Multivariate Analysis: Non-Graphical \n",
    "\n",
    "For this analysis, we can determine the relationship between any two numerical features by calculating the correlation coefficient. Correlation is a measure of the degree to which two variables change together, if at all. If two features have a strong positive correlation, it means that if the value of one feature increases, the value of the other feature also increases.\n",
    "\n",
    "We will focus on the Pearson correlation. The Pearson correlation measures the linear relationship between features and assumes that the features are normally distributed. Below is a table that explains how to interpret the Pearson correlation measure:\n",
    "\n",
    "\n",
    "|   Pearson Correlation Coefficient (r)  |       Description of Relationship     |\n",
    "|:-------------------|:---------------:|\n",
    "|  r = -1              |Perfect Negative Correlation |\n",
    "| -1 < r < -0.8 | Strong Negative Correlation  | \n",
    "| - 0.8 < r < -0.5             | Moderate Negative Correlation  | \n",
    "|       - 0.5 < r < 0     |Weak Negative Correlation  | \n",
    "|       r = 0  |No Linear Correlation | \n",
    "| 0 < r < 0.5 | Weak Positive Correlation  | \n",
    "| 0.5 < r < 0.8             | Moderate Positive Correlation  | \n",
    "|       0.8 < r < 1     |Strong Positive Correlation  | \n",
    "|       r = 1  |Perfect Positive Correlation | \n"
   ]
  },
  {
   "cell_type": "code",
   "execution_count": null,
   "metadata": {},
   "outputs": [],
   "source": [
    "df.corr()"
   ]
  },
  {
   "cell_type": "markdown",
   "metadata": {},
   "source": [
    "### Multivariate Analysis: Graphical\n",
    "\n",
    "#### Heatmap\n",
    "\n",
    "The relationship between features can also be displayed graphically using a **heatmap**. The Seaborn library will be used for this basic heatmap visualisation. \n",
    "\n",
    "The correlation coefficient value will be displayed on the heatmap using the `vmin` and `vmax` parameters."
   ]
  },
  {
   "cell_type": "code",
   "execution_count": 9,
   "metadata": {},
   "outputs": [
    {
     "data": {
      "image/png": "[encoded data removed]",
      "text/plain": [
       "<Figure size 432x288 with 2 Axes>"
      ]
     },
     "metadata": {
      "needs_background": "light"
     },
     "output_type": "display_data"
    }
   ],
   "source": [
    "heatmap = sns.heatmap(train.corr(), vmin=-1, vmax=1, annot=True)\n",
    "heatmap.set_title('Correlation Heatmap', fontdict={'fontsize':12}, pad=12);"
   ]
  },
  {
   "cell_type": "code",
   "execution_count": null,
   "metadata": {},
   "outputs": [],
   "source": []
  },
  {
   "cell_type": "markdown",
   "metadata": {},
   "source": [
    "## Feature Selection\n",
    "\n",
    "The process of choosing the most relevant features in your data. \"Most relevant\" can depend on many factors, but it might be something as simple as the highest correlation with the target, or the features with the most variance. In feature selection, we remove features that do not help our model learn the relationship between features and the target. This can help the model generalize better to new data and results in a more interpretable model.\n",
    "\n",
    "Before we decide which features to use in our model, we should take a look at the distribution of our target variable."
   ]
  },
  {
   "cell_type": "code",
   "execution_count": 39,
   "metadata": {},
   "outputs": [
    {
     "data": {
      "text/plain": [
       "<matplotlib.axes._subplots.AxesSubplot at 0x1de0a8f5908>"
      ]
     },
     "execution_count": 39,
     "metadata": {},
     "output_type": "execute_result"
    },
    {
     "data": {
      "image/png": "[encoded data removed]",
      "text/plain": [
       "<Figure size 432x288 with 1 Axes>"
      ]
     },
     "metadata": {
      "needs_background": "light"
     },
     "output_type": "display_data"
    }
   ],
   "source": [
    "# target distribution\n",
    "sns.distplot(train['avg_price_per_kg'],kde=True)"
   ]
  },
  {
   "cell_type": "markdown",
   "metadata": {},
   "source": [
    "The data is normally distributed but slightly skewed to the right."
   ]
  },
  {
   "cell_type": "markdown",
   "metadata": {},
   "source": [
    "### Dummy Variable Encoding\n",
    "\n",
    "All input data for regression model building purposes needs to be numerical. We therefore have to transform the text data (found within columns such as 'Province','Container', 'Size_Grade', 'Commodities' and 'Date') into numbers before we can train our machine learning model.\n",
    "\n",
    "To facilitate this transformation from textual-categorical data to numerical equivalents, we use a pandas method called get_dummies. The text data are categorical variables, and ***get_dummies*** will transform all the categorical text data into numbers by adding a column for each distinct category. The new column has a 1 for observations which were in this category, and a 0 for observations that were not."
   ]
  },
  {
   "cell_type": "code",
   "execution_count": 40,
   "metadata": {},
   "outputs": [
    {
     "data": {
      "text/html": [
       "<div>\n",
       "<style scoped>\n",
       "    .dataframe tbody tr th:only-of-type {\n",
       "        vertical-align: middle;\n",
       "    }\n",
       "\n",
       "    .dataframe tbody tr th {\n",
       "        vertical-align: top;\n",
       "    }\n",
       "\n",
       "    .dataframe thead th {\n",
       "        text-align: right;\n",
       "    }\n",
       "</style>\n",
       "<table border=\"1\" class=\"dataframe\">\n",
       "  <thead>\n",
       "    <tr style=\"text-align: right;\">\n",
       "      <th></th>\n",
       "      <th>Weight_Kg</th>\n",
       "      <th>Low_Price</th>\n",
       "      <th>High_Price</th>\n",
       "      <th>Sales_Total</th>\n",
       "      <th>Total_Qty_Sold</th>\n",
       "      <th>Total_Kg_Sold</th>\n",
       "      <th>Stock_On_Hand</th>\n",
       "      <th>avg_price_per_kg</th>\n",
       "      <th>Province_CAPE</th>\n",
       "      <th>Province_EASTERN CAPE</th>\n",
       "      <th>...</th>\n",
       "      <th>Date_2020-09-07</th>\n",
       "      <th>Date_2020-09-09</th>\n",
       "      <th>Date_2020-09-16</th>\n",
       "      <th>Date_2020-09-17</th>\n",
       "      <th>Date_2020-09-19</th>\n",
       "      <th>Date_2020-09-21</th>\n",
       "      <th>Date_2020-09-23</th>\n",
       "      <th>Date_2020-09-28</th>\n",
       "      <th>Date_2020-10-01</th>\n",
       "      <th>Date_2020-10-03</th>\n",
       "    </tr>\n",
       "  </thead>\n",
       "  <tbody>\n",
       "    <tr>\n",
       "      <th>1</th>\n",
       "      <td>18.3</td>\n",
       "      <td>150.0</td>\n",
       "      <td>170.0</td>\n",
       "      <td>51710.0</td>\n",
       "      <td>332</td>\n",
       "      <td>6075.6</td>\n",
       "      <td>822</td>\n",
       "      <td>8.51</td>\n",
       "      <td>1</td>\n",
       "      <td>0</td>\n",
       "      <td>...</td>\n",
       "      <td>0</td>\n",
       "      <td>1</td>\n",
       "      <td>0</td>\n",
       "      <td>0</td>\n",
       "      <td>0</td>\n",
       "      <td>0</td>\n",
       "      <td>0</td>\n",
       "      <td>0</td>\n",
       "      <td>0</td>\n",
       "      <td>0</td>\n",
       "    </tr>\n",
       "    <tr>\n",
       "      <th>7</th>\n",
       "      <td>11.0</td>\n",
       "      <td>50.0</td>\n",
       "      <td>50.0</td>\n",
       "      <td>16000.0</td>\n",
       "      <td>320</td>\n",
       "      <td>3520.0</td>\n",
       "      <td>0</td>\n",
       "      <td>4.55</td>\n",
       "      <td>1</td>\n",
       "      <td>0</td>\n",
       "      <td>...</td>\n",
       "      <td>0</td>\n",
       "      <td>0</td>\n",
       "      <td>0</td>\n",
       "      <td>0</td>\n",
       "      <td>0</td>\n",
       "      <td>0</td>\n",
       "      <td>0</td>\n",
       "      <td>0</td>\n",
       "      <td>0</td>\n",
       "      <td>0</td>\n",
       "    </tr>\n",
       "    <tr>\n",
       "      <th>24</th>\n",
       "      <td>9.0</td>\n",
       "      <td>55.0</td>\n",
       "      <td>55.0</td>\n",
       "      <td>990.0</td>\n",
       "      <td>18</td>\n",
       "      <td>162.0</td>\n",
       "      <td>1506</td>\n",
       "      <td>6.11</td>\n",
       "      <td>0</td>\n",
       "      <td>0</td>\n",
       "      <td>...</td>\n",
       "      <td>0</td>\n",
       "      <td>0</td>\n",
       "      <td>0</td>\n",
       "      <td>0</td>\n",
       "      <td>0</td>\n",
       "      <td>0</td>\n",
       "      <td>0</td>\n",
       "      <td>0</td>\n",
       "      <td>0</td>\n",
       "      <td>0</td>\n",
       "    </tr>\n",
       "    <tr>\n",
       "      <th>40</th>\n",
       "      <td>18.3</td>\n",
       "      <td>80.0</td>\n",
       "      <td>120.0</td>\n",
       "      <td>32020.0</td>\n",
       "      <td>388</td>\n",
       "      <td>7100.4</td>\n",
       "      <td>443</td>\n",
       "      <td>4.51</td>\n",
       "      <td>1</td>\n",
       "      <td>0</td>\n",
       "      <td>...</td>\n",
       "      <td>0</td>\n",
       "      <td>0</td>\n",
       "      <td>0</td>\n",
       "      <td>0</td>\n",
       "      <td>0</td>\n",
       "      <td>0</td>\n",
       "      <td>0</td>\n",
       "      <td>0</td>\n",
       "      <td>0</td>\n",
       "      <td>0</td>\n",
       "    </tr>\n",
       "    <tr>\n",
       "      <th>69</th>\n",
       "      <td>400.0</td>\n",
       "      <td>1800.0</td>\n",
       "      <td>1800.0</td>\n",
       "      <td>1800.0</td>\n",
       "      <td>1</td>\n",
       "      <td>400.0</td>\n",
       "      <td>2</td>\n",
       "      <td>4.50</td>\n",
       "      <td>0</td>\n",
       "      <td>1</td>\n",
       "      <td>...</td>\n",
       "      <td>0</td>\n",
       "      <td>0</td>\n",
       "      <td>0</td>\n",
       "      <td>0</td>\n",
       "      <td>0</td>\n",
       "      <td>0</td>\n",
       "      <td>0</td>\n",
       "      <td>1</td>\n",
       "      <td>0</td>\n",
       "      <td>0</td>\n",
       "    </tr>\n",
       "  </tbody>\n",
       "</table>\n",
       "<p>5 rows × 184 columns</p>\n",
       "</div>"
      ],
      "text/plain": [
       "    Weight_Kg  Low_Price  High_Price  Sales_Total  Total_Qty_Sold  \\\n",
       "1        18.3      150.0       170.0      51710.0             332   \n",
       "7        11.0       50.0        50.0      16000.0             320   \n",
       "24        9.0       55.0        55.0        990.0              18   \n",
       "40       18.3       80.0       120.0      32020.0             388   \n",
       "69      400.0     1800.0      1800.0       1800.0               1   \n",
       "\n",
       "    Total_Kg_Sold  Stock_On_Hand  avg_price_per_kg  Province_CAPE  \\\n",
       "1          6075.6            822              8.51              1   \n",
       "7          3520.0              0              4.55              1   \n",
       "24          162.0           1506              6.11              0   \n",
       "40         7100.4            443              4.51              1   \n",
       "69          400.0              2              4.50              0   \n",
       "\n",
       "    Province_EASTERN CAPE  ...  Date_2020-09-07  Date_2020-09-09  \\\n",
       "1                       0  ...                0                1   \n",
       "7                       0  ...                0                0   \n",
       "24                      0  ...                0                0   \n",
       "40                      0  ...                0                0   \n",
       "69                      1  ...                0                0   \n",
       "\n",
       "    Date_2020-09-16  Date_2020-09-17  Date_2020-09-19  Date_2020-09-21  \\\n",
       "1                 0                0                0                0   \n",
       "7                 0                0                0                0   \n",
       "24                0                0                0                0   \n",
       "40                0                0                0                0   \n",
       "69                0                0                0                0   \n",
       "\n",
       "    Date_2020-09-23  Date_2020-09-28  Date_2020-10-01  Date_2020-10-03  \n",
       "1                 0                0                0                0  \n",
       "7                 0                0                0                0  \n",
       "24                0                0                0                0  \n",
       "40                0                0                0                0  \n",
       "69                0                1                0                0  \n",
       "\n",
       "[5 rows x 184 columns]"
      ]
     },
     "execution_count": 40,
     "metadata": {},
     "output_type": "execute_result"
    }
   ],
   "source": [
    "dummy_df = pd.get_dummies(train)\n",
    "dummy_df.head()"
   ]
  },
  {
   "cell_type": "markdown",
   "metadata": {},
   "source": [
    "Now we get to where we can decide which features to use to buld our model. There are various methods we could use for feature selection (one example is selecting features based on p-values) but the one we will use is the Pearson Correlation Coefficient"
   ]
  },
  {
   "cell_type": "markdown",
   "metadata": {},
   "source": [
    "### Correlation and Variable Selection\n",
    "\n",
    "Using the dummy variable dataframe, we can build a model that predicts `avg_price_per_kg` (our dependent variable) as a function of 182 different independent variables (IVs)\n",
    "\n",
    "Before we do this, however, let's reorder columns so that our dependent variable is the last column of the dataframe. This will make a heatmap visualisation representing a correlation matrix of our data easier to interpret."
   ]
  },
  {
   "cell_type": "code",
   "execution_count": 41,
   "metadata": {},
   "outputs": [],
   "source": [
    "column_titles = [col for col in dummy_df.columns if col!= 'avg_price_per_kg'] + ['avg_price_per_kg']\n",
    "dummy_df = dummy_df.reindex(columns=column_titles)"
   ]
  },
  {
   "cell_type": "code",
   "execution_count": 42,
   "metadata": {},
   "outputs": [
    {
     "data": {
      "text/html": [
       "<div>\n",
       "<style scoped>\n",
       "    .dataframe tbody tr th:only-of-type {\n",
       "        vertical-align: middle;\n",
       "    }\n",
       "\n",
       "    .dataframe tbody tr th {\n",
       "        vertical-align: top;\n",
       "    }\n",
       "\n",
       "    .dataframe thead th {\n",
       "        text-align: right;\n",
       "    }\n",
       "</style>\n",
       "<table border=\"1\" class=\"dataframe\">\n",
       "  <thead>\n",
       "    <tr style=\"text-align: right;\">\n",
       "      <th></th>\n",
       "      <th>Correlation</th>\n",
       "    </tr>\n",
       "  </thead>\n",
       "  <tbody>\n",
       "    <tr>\n",
       "      <th>avg_price_per_kg</th>\n",
       "      <td>1.000000</td>\n",
       "    </tr>\n",
       "    <tr>\n",
       "      <th>Container_M4183</th>\n",
       "      <td>0.403229</td>\n",
       "    </tr>\n",
       "    <tr>\n",
       "      <th>Size_Grade_1L</th>\n",
       "      <td>0.280966</td>\n",
       "    </tr>\n",
       "    <tr>\n",
       "      <th>Province_W.CAPE-BERGRIVER ETC</th>\n",
       "      <td>0.262051</td>\n",
       "    </tr>\n",
       "    <tr>\n",
       "      <th>Size_Grade_1X</th>\n",
       "      <td>0.251451</td>\n",
       "    </tr>\n",
       "    <tr>\n",
       "      <th>Container_EC120</th>\n",
       "      <td>0.188162</td>\n",
       "    </tr>\n",
       "    <tr>\n",
       "      <th>Size_Grade_1M</th>\n",
       "      <td>0.175779</td>\n",
       "    </tr>\n",
       "    <tr>\n",
       "      <th>Container_EF120</th>\n",
       "      <td>0.114297</td>\n",
       "    </tr>\n",
       "    <tr>\n",
       "      <th>Sales_Total</th>\n",
       "      <td>0.108473</td>\n",
       "    </tr>\n",
       "    <tr>\n",
       "      <th>Stock_On_Hand</th>\n",
       "      <td>0.105028</td>\n",
       "    </tr>\n",
       "    <tr>\n",
       "      <th>Date_2019-12-12</th>\n",
       "      <td>0.097705</td>\n",
       "    </tr>\n",
       "    <tr>\n",
       "      <th>Total_Qty_Sold</th>\n",
       "      <td>0.087536</td>\n",
       "    </tr>\n",
       "    <tr>\n",
       "      <th>Province_CAPE</th>\n",
       "      <td>0.086135</td>\n",
       "    </tr>\n",
       "    <tr>\n",
       "      <th>Date_2019-12-11</th>\n",
       "      <td>0.081792</td>\n",
       "    </tr>\n",
       "    <tr>\n",
       "      <th>Date_2019-12-14</th>\n",
       "      <td>0.079554</td>\n",
       "    </tr>\n",
       "    <tr>\n",
       "      <th>Date_2020-02-14</th>\n",
       "      <td>0.068489</td>\n",
       "    </tr>\n",
       "    <tr>\n",
       "      <th>Date_2020-01-08</th>\n",
       "      <td>0.064911</td>\n",
       "    </tr>\n",
       "    <tr>\n",
       "      <th>Date_2020-02-03</th>\n",
       "      <td>0.064384</td>\n",
       "    </tr>\n",
       "    <tr>\n",
       "      <th>Date_2020-02-05</th>\n",
       "      <td>0.062756</td>\n",
       "    </tr>\n",
       "    <tr>\n",
       "      <th>Date_2020-02-22</th>\n",
       "      <td>0.061230</td>\n",
       "    </tr>\n",
       "    <tr>\n",
       "      <th>Date_2020-06-13</th>\n",
       "      <td>0.059537</td>\n",
       "    </tr>\n",
       "    <tr>\n",
       "      <th>Date_2020-01-13</th>\n",
       "      <td>0.056351</td>\n",
       "    </tr>\n",
       "    <tr>\n",
       "      <th>Date_2020-08-24</th>\n",
       "      <td>0.046822</td>\n",
       "    </tr>\n",
       "    <tr>\n",
       "      <th>Date_2020-06-12</th>\n",
       "      <td>0.044025</td>\n",
       "    </tr>\n",
       "    <tr>\n",
       "      <th>Date_2020-01-24</th>\n",
       "      <td>0.042943</td>\n",
       "    </tr>\n",
       "    <tr>\n",
       "      <th>Date_2020-01-20</th>\n",
       "      <td>0.042441</td>\n",
       "    </tr>\n",
       "    <tr>\n",
       "      <th>Date_2020-02-21</th>\n",
       "      <td>0.042276</td>\n",
       "    </tr>\n",
       "    <tr>\n",
       "      <th>Date_2020-07-17</th>\n",
       "      <td>0.040710</td>\n",
       "    </tr>\n",
       "    <tr>\n",
       "      <th>Date_2019-12-23</th>\n",
       "      <td>0.038083</td>\n",
       "    </tr>\n",
       "    <tr>\n",
       "      <th>Date_2020-01-16</th>\n",
       "      <td>0.036899</td>\n",
       "    </tr>\n",
       "    <tr>\n",
       "      <th>...</th>\n",
       "      <td>...</td>\n",
       "    </tr>\n",
       "    <tr>\n",
       "      <th>Date_2020-05-29</th>\n",
       "      <td>-0.037519</td>\n",
       "    </tr>\n",
       "    <tr>\n",
       "      <th>Date_2020-04-29</th>\n",
       "      <td>-0.038267</td>\n",
       "    </tr>\n",
       "    <tr>\n",
       "      <th>Date_2020-05-13</th>\n",
       "      <td>-0.039435</td>\n",
       "    </tr>\n",
       "    <tr>\n",
       "      <th>Date_2020-04-21</th>\n",
       "      <td>-0.040027</td>\n",
       "    </tr>\n",
       "    <tr>\n",
       "      <th>Date_2020-02-26</th>\n",
       "      <td>-0.041815</td>\n",
       "    </tr>\n",
       "    <tr>\n",
       "      <th>Date_2020-07-22</th>\n",
       "      <td>-0.045609</td>\n",
       "    </tr>\n",
       "    <tr>\n",
       "      <th>Date_2020-04-28</th>\n",
       "      <td>-0.047655</td>\n",
       "    </tr>\n",
       "    <tr>\n",
       "      <th>Date_2020-03-10</th>\n",
       "      <td>-0.051290</td>\n",
       "    </tr>\n",
       "    <tr>\n",
       "      <th>Size_Grade_2X</th>\n",
       "      <td>-0.051624</td>\n",
       "    </tr>\n",
       "    <tr>\n",
       "      <th>Date_2020-05-07</th>\n",
       "      <td>-0.055905</td>\n",
       "    </tr>\n",
       "    <tr>\n",
       "      <th>Date_2020-04-17</th>\n",
       "      <td>-0.056775</td>\n",
       "    </tr>\n",
       "    <tr>\n",
       "      <th>Date_2020-07-21</th>\n",
       "      <td>-0.059140</td>\n",
       "    </tr>\n",
       "    <tr>\n",
       "      <th>Container_DT063</th>\n",
       "      <td>-0.059579</td>\n",
       "    </tr>\n",
       "    <tr>\n",
       "      <th>Date_2020-07-23</th>\n",
       "      <td>-0.065530</td>\n",
       "    </tr>\n",
       "    <tr>\n",
       "      <th>Date_2020-07-20</th>\n",
       "      <td>-0.066150</td>\n",
       "    </tr>\n",
       "    <tr>\n",
       "      <th>Size_Grade_2U</th>\n",
       "      <td>-0.069457</td>\n",
       "    </tr>\n",
       "    <tr>\n",
       "      <th>Date_2020-07-25</th>\n",
       "      <td>-0.069507</td>\n",
       "    </tr>\n",
       "    <tr>\n",
       "      <th>Size_Grade_2L</th>\n",
       "      <td>-0.089733</td>\n",
       "    </tr>\n",
       "    <tr>\n",
       "      <th>Container_JG110</th>\n",
       "      <td>-0.140148</td>\n",
       "    </tr>\n",
       "    <tr>\n",
       "      <th>Low_Price</th>\n",
       "      <td>-0.141740</td>\n",
       "    </tr>\n",
       "    <tr>\n",
       "      <th>Container_AC030</th>\n",
       "      <td>-0.144427</td>\n",
       "    </tr>\n",
       "    <tr>\n",
       "      <th>Size_Grade_2M</th>\n",
       "      <td>-0.153372</td>\n",
       "    </tr>\n",
       "    <tr>\n",
       "      <th>High_Price</th>\n",
       "      <td>-0.164496</td>\n",
       "    </tr>\n",
       "    <tr>\n",
       "      <th>Province_EASTERN CAPE</th>\n",
       "      <td>-0.178531</td>\n",
       "    </tr>\n",
       "    <tr>\n",
       "      <th>Container_JE090</th>\n",
       "      <td>-0.322235</td>\n",
       "    </tr>\n",
       "    <tr>\n",
       "      <th>Weight_Kg</th>\n",
       "      <td>-0.337886</td>\n",
       "    </tr>\n",
       "    <tr>\n",
       "      <th>Size_Grade_2S</th>\n",
       "      <td>-0.352996</td>\n",
       "    </tr>\n",
       "    <tr>\n",
       "      <th>Container_IA400</th>\n",
       "      <td>-0.355565</td>\n",
       "    </tr>\n",
       "    <tr>\n",
       "      <th>Province_NATAL</th>\n",
       "      <td>-0.379801</td>\n",
       "    </tr>\n",
       "    <tr>\n",
       "      <th>Commodities_APPLE GOLDEN DELICIOUS</th>\n",
       "      <td>NaN</td>\n",
       "    </tr>\n",
       "  </tbody>\n",
       "</table>\n",
       "<p>184 rows × 1 columns</p>\n",
       "</div>"
      ],
      "text/plain": [
       "                                    Correlation\n",
       "avg_price_per_kg                       1.000000\n",
       "Container_M4183                        0.403229\n",
       "Size_Grade_1L                          0.280966\n",
       "Province_W.CAPE-BERGRIVER ETC          0.262051\n",
       "Size_Grade_1X                          0.251451\n",
       "Container_EC120                        0.188162\n",
       "Size_Grade_1M                          0.175779\n",
       "Container_EF120                        0.114297\n",
       "Sales_Total                            0.108473\n",
       "Stock_On_Hand                          0.105028\n",
       "Date_2019-12-12                        0.097705\n",
       "Total_Qty_Sold                         0.087536\n",
       "Province_CAPE                          0.086135\n",
       "Date_2019-12-11                        0.081792\n",
       "Date_2019-12-14                        0.079554\n",
       "Date_2020-02-14                        0.068489\n",
       "Date_2020-01-08                        0.064911\n",
       "Date_2020-02-03                        0.064384\n",
       "Date_2020-02-05                        0.062756\n",
       "Date_2020-02-22                        0.061230\n",
       "Date_2020-06-13                        0.059537\n",
       "Date_2020-01-13                        0.056351\n",
       "Date_2020-08-24                        0.046822\n",
       "Date_2020-06-12                        0.044025\n",
       "Date_2020-01-24                        0.042943\n",
       "Date_2020-01-20                        0.042441\n",
       "Date_2020-02-21                        0.042276\n",
       "Date_2020-07-17                        0.040710\n",
       "Date_2019-12-23                        0.038083\n",
       "Date_2020-01-16                        0.036899\n",
       "...                                         ...\n",
       "Date_2020-05-29                       -0.037519\n",
       "Date_2020-04-29                       -0.038267\n",
       "Date_2020-05-13                       -0.039435\n",
       "Date_2020-04-21                       -0.040027\n",
       "Date_2020-02-26                       -0.041815\n",
       "Date_2020-07-22                       -0.045609\n",
       "Date_2020-04-28                       -0.047655\n",
       "Date_2020-03-10                       -0.051290\n",
       "Size_Grade_2X                         -0.051624\n",
       "Date_2020-05-07                       -0.055905\n",
       "Date_2020-04-17                       -0.056775\n",
       "Date_2020-07-21                       -0.059140\n",
       "Container_DT063                       -0.059579\n",
       "Date_2020-07-23                       -0.065530\n",
       "Date_2020-07-20                       -0.066150\n",
       "Size_Grade_2U                         -0.069457\n",
       "Date_2020-07-25                       -0.069507\n",
       "Size_Grade_2L                         -0.089733\n",
       "Container_JG110                       -0.140148\n",
       "Low_Price                             -0.141740\n",
       "Container_AC030                       -0.144427\n",
       "Size_Grade_2M                         -0.153372\n",
       "High_Price                            -0.164496\n",
       "Province_EASTERN CAPE                 -0.178531\n",
       "Container_JE090                       -0.322235\n",
       "Weight_Kg                             -0.337886\n",
       "Size_Grade_2S                         -0.352996\n",
       "Container_IA400                       -0.355565\n",
       "Province_NATAL                        -0.379801\n",
       "Commodities_APPLE GOLDEN DELICIOUS          NaN\n",
       "\n",
       "[184 rows x 1 columns]"
      ]
     },
     "execution_count": 42,
     "metadata": {},
     "output_type": "execute_result"
    }
   ],
   "source": [
    "# Target correlations with features\n",
    "corrs = pd.DataFrame(dummy_df.corr()['avg_price_per_kg']).rename(columns = {'avg_price_per_kg':'Correlation'})\n",
    "corrs.sort_values(by='Correlation',ascending=False, inplace=True)\n",
    "corrs"
   ]
  },
  {
   "cell_type": "markdown",
   "metadata": {},
   "source": [
    "However, we also need to look for predictor variable pairs which have a high correlation with each other to avoid autocorrelation. Instead of looking at the whole correlation matrix, it might be easier to isolate the sections of the correlation matrix to where the off-diagonal correlations are high:"
   ]
  },
  {
   "cell_type": "code",
   "execution_count": 43,
   "metadata": {},
   "outputs": [
    {
     "data": {
      "text/html": [
       "<div>\n",
       "<style scoped>\n",
       "    .dataframe tbody tr th:only-of-type {\n",
       "        vertical-align: middle;\n",
       "    }\n",
       "\n",
       "    .dataframe tbody tr th {\n",
       "        vertical-align: top;\n",
       "    }\n",
       "\n",
       "    .dataframe thead th {\n",
       "        text-align: right;\n",
       "    }\n",
       "</style>\n",
       "<table border=\"1\" class=\"dataframe\">\n",
       "  <thead>\n",
       "    <tr style=\"text-align: right;\">\n",
       "      <th></th>\n",
       "    </tr>\n",
       "  </thead>\n",
       "  <tbody>\n",
       "  </tbody>\n",
       "</table>\n",
       "</div>"
      ],
      "text/plain": [
       "Empty DataFrame\n",
       "Columns: []\n",
       "Index: []"
      ]
     },
     "execution_count": 43,
     "metadata": {},
     "output_type": "execute_result"
    }
   ],
   "source": [
    "# As before, we create the correlation matrix\n",
    "# and find rows and columns where correlation coefficients > 0.9 or <-0.9\n",
    "#corr = X_data.corr()\n",
    "r, c = np.where(np.abs(corrs) > 0.9)\n",
    "\n",
    "# We are only interested in the off diagonal entries:\n",
    "off_diagonal = np.where(r != c)\n",
    "\n",
    "# Show the correlation matrix rows and columns where we have highly correlated off diagonal entries:\n",
    "corrs.iloc[r[off_diagonal], c[off_diagonal]]"
   ]
  },
  {
   "cell_type": "markdown",
   "metadata": {},
   "source": [
    "It seems we do not have any autocorrelate features. We will now build a few models using our features to see which perform best. The models we will build will be trained on\n",
    " - the feature with the highest correlation with our target - Container_M4183\n",
    " - all the features in our dummy_df"
   ]
  },
  {
   "cell_type": "markdown",
   "metadata": {},
   "source": [
    "## Training"
   ]
  },
  {
   "cell_type": "markdown",
   "metadata": {},
   "source": [
    "### Preprocessing\n",
    "\n",
    "Let's try and find out what percentage of the data in each collumn the missing values account for with the function we've created below."
   ]
  },
  {
   "cell_type": "code",
   "execution_count": 20,
   "metadata": {},
   "outputs": [],
   "source": [
    "# missing values\n",
    "def missing_values_table(df):\n",
    "        mis_val = df.isnull().sum()\n",
    "        \n",
    "        mis_val_percent = 100 * df.isnull().sum() / len(df)\n",
    "        \n",
    "        mis_val_table = pd.concat([mis_val, mis_val_percent], axis=1)\n",
    "        \n",
    "        mis_val_table_ren_columns = mis_val_table.rename(\n",
    "        columns = {0 : 'Missing Values', 1 : '% of Total Values'})\n",
    "        \n",
    "        mis_val_table_ren_columns = mis_val_table_ren_columns[\n",
    "            mis_val_table_ren_columns.iloc[:,1] != 0].sort_values(\n",
    "        '% of Total Values', ascending=False).round(1)\n",
    "        \n",
    "        print (\"Your selected dataframe has \" + str(df.shape[1]) + \" columns.\\n\"      \n",
    "            \"There are \" + str(mis_val_table_ren_columns.shape[0]) +\n",
    "              \" columns that have missing values.\")\n",
    "        \n",
    "        # Return the dataframe with missing information\n",
    "        return mis_val_table_ren_columns"
   ]
  },
  {
   "cell_type": "code",
   "execution_count": 21,
   "metadata": {},
   "outputs": [
    {
     "name": "stdout",
     "output_type": "stream",
     "text": [
      "Your selected dataframe has 183 columns.\n",
      "There are 0 columns that have missing values.\n"
     ]
    },
    {
     "data": {
      "text/html": [
       "<div>\n",
       "<style scoped>\n",
       "    .dataframe tbody tr th:only-of-type {\n",
       "        vertical-align: middle;\n",
       "    }\n",
       "\n",
       "    .dataframe tbody tr th {\n",
       "        vertical-align: top;\n",
       "    }\n",
       "\n",
       "    .dataframe thead th {\n",
       "        text-align: right;\n",
       "    }\n",
       "</style>\n",
       "<table border=\"1\" class=\"dataframe\">\n",
       "  <thead>\n",
       "    <tr style=\"text-align: right;\">\n",
       "      <th></th>\n",
       "      <th>Missing Values</th>\n",
       "      <th>% of Total Values</th>\n",
       "    </tr>\n",
       "  </thead>\n",
       "  <tbody>\n",
       "  </tbody>\n",
       "</table>\n",
       "</div>"
      ],
      "text/plain": [
       "Empty DataFrame\n",
       "Columns: [Missing Values, % of Total Values]\n",
       "Index: []"
      ]
     },
     "execution_count": 21,
     "metadata": {},
     "output_type": "execute_result"
    }
   ],
   "source": [
    "missing_values_table(dummy_df)"
   ]
  },
  {
   "cell_type": "markdown",
   "metadata": {},
   "source": [
    "### Making Predictions"
   ]
  },
  {
   "cell_type": "code",
   "execution_count": 44,
   "metadata": {},
   "outputs": [],
   "source": [
    "# Function to fit data, make predictions, and evaluate model\n",
    "def rmse(y_test, y_pred):\n",
    "    return np.sqrt(mean_squared_error(y_pred,y_test))\n",
    "\n",
    "def r_squared(y_test, y_pred):\n",
    "    return r2_score(y_test, y_pred)\n",
    "    \n",
    "# Takes in a model, trains the model, and evaluates the model on the test set\n",
    "def fit_and_evaluate(model,X,y):\n",
    "    \n",
    "    X_train, X_test, y_train, y_test = train_test_split(X, y, test_size = 0.2,random_state=42)\n",
    "    # Train the model\n",
    "    model.fit(X_train, y_train)\n",
    "    \n",
    "    # Make predictions and evalute\n",
    "    train_pred = model.predict(X_train)\n",
    "    test_pred = model.predict(X_test)\n",
    "    \n",
    "    train_rmse = rmse(y_train, train_pred)\n",
    "    test_rmse = rmse(y_test, test_pred)\n",
    "    \n",
    "    train_r2 = r_squared(y_train, train_pred)\n",
    "    test_r2 = r_squared(y_test, test_pred)\n",
    "    \n",
    "    df = {'Train RMSE': train_rmse,'Train R^2':train_r2,'Test RMSE': test_rmse,'Test R^2':test_r2}\n",
    "    \n",
    "    return df"
   ]
  },
  {
   "cell_type": "code",
   "execution_count": 45,
   "metadata": {},
   "outputs": [
    {
     "data": {
      "text/plain": [
       "(1952,)"
      ]
     },
     "execution_count": 45,
     "metadata": {},
     "output_type": "execute_result"
    }
   ],
   "source": [
    "# Our model will be the same throughout, so will our y\n",
    "model = LinearRegression(n_jobs=-1)\n",
    "y = dummy_df['avg_price_per_kg']\n",
    "y.shape"
   ]
  },
  {
   "cell_type": "code",
   "execution_count": 46,
   "metadata": {},
   "outputs": [
    {
     "data": {
      "text/plain": [
       "{'Train RMSE': 2.065617561699141,\n",
       " 'Train R^2': 0.17226587611781274,\n",
       " 'Test RMSE': 2.026090611603195,\n",
       " 'Test R^2': 0.11531344644437602}"
      ]
     },
     "execution_count": 46,
     "metadata": {},
     "output_type": "execute_result"
    }
   ],
   "source": [
    "# fit the model to the data and make predictions - Container_M4183\n",
    "X = dummy_df['Container_M4183'].values.reshape(-1, 1)\n",
    "fit_and_evaluate(model,X,y)"
   ]
  },
  {
   "cell_type": "code",
   "execution_count": 47,
   "metadata": {},
   "outputs": [
    {
     "data": {
      "text/plain": [
       "{'Train RMSE': 1.2139989096502701,\n",
       " 'Train R^2': 0.7140911369818779,\n",
       " 'Test RMSE': 1.4105711751632135,\n",
       " 'Test R^2': 0.5711931564754813}"
      ]
     },
     "execution_count": 47,
     "metadata": {},
     "output_type": "execute_result"
    }
   ],
   "source": [
    "# fit the model to the data and make predictions - all features\n",
    "X = dummy_df.drop('avg_price_per_kg',axis=1).values\n",
    "y = dummy_df['avg_price_per_kg']\n",
    "\n",
    "fit_and_evaluate(model,X,y)"
   ]
  },
  {
   "cell_type": "markdown",
   "metadata": {},
   "source": [
    "**Metrics used**\n",
    "  - Root Mean Square Error (RMSE) is the standard deviation of the residuals (prediction errors). Residuals are a measure of how far from the regression line data points are; RMSE is a measure of how spread out these residuals are. In other words, it tells you how concentrated the data is around the line of best fit. Root mean square error is commonly used in climatology, forecasting, and regression analysis to verify experimental results.\n",
    "  - R-squared is a statistical measure of how close the data are to the fitted regression line. It is also  known as the coefficient of determination, or the coefficient of multiple determination for multiple regression; it is the percentage of the response variable variation that is explained by a linear model."
   ]
  },
  {
   "cell_type": "markdown",
   "metadata": {},
   "source": [
    "## Checking for Linearity\n",
    "\n",
    "The first thing we need to check is the mathematical relationship between each predictor variable and the response variable. What we are looking for here is known as linearity. A linear relationship means that a change in the response *Y* due to a one-unit change in the predictor $X_j$ is constant, regardless of the value of $X_j$.\n",
    "\n",
    "If we fit a regression model to a dataset that is non-linear, it will fail to adequately capture the relationship in the data - resulting in a mathematically inappropriate model. In order to check for linearity, we can produce scatter plots of each individual predictor against the response variable. The intuition here is that we are looking for obvious linear relationships."
   ]
  },
  {
   "cell_type": "code",
   "execution_count": null,
   "metadata": {},
   "outputs": [],
   "source": []
  },
  {
   "cell_type": "markdown",
   "metadata": {},
   "source": [
    "## Checking for Multicollinearity\n",
    "\n",
    "Multicollinearity refers to the presence of strong correlation among two or more of the predictor variables in the dataset. The presence of any correlation among predictors is detrimental to model quality for two reasons:\n",
    "\n",
    "- It tends to increase the standard error;\n",
    "\n",
    "- It becomes difficult to estimate the effect of any one predictor variable on the response variable.\n",
    "\n",
    "We will check for multicollinearity by generating pairwise scatter plots among predictors."
   ]
  },
  {
   "cell_type": "code",
   "execution_count": null,
   "metadata": {},
   "outputs": [],
   "source": []
  },
  {
   "cell_type": "markdown",
   "metadata": {},
   "source": [
    "## Modelling Price"
   ]
  },
  {
   "cell_type": "code",
   "execution_count": null,
   "metadata": {},
   "outputs": [],
   "source": [
    "# create figure and 3D axis\n",
    "\n",
    "\n",
    "# set axis lables\n",
    "\n",
    "\n",
    "# scatter plot with response variable and 2 predictors"
   ]
  },
  {
   "cell_type": "markdown",
   "metadata": {},
   "source": [
    "## Fitting a Multivariate Regression Model"
   ]
  },
  {
   "cell_type": "code",
   "execution_count": null,
   "metadata": {},
   "outputs": [],
   "source": [
    "# import regression module"
   ]
  },
  {
   "cell_type": "code",
   "execution_count": 50,
   "metadata": {},
   "outputs": [],
   "source": [
    "# split predictors and response\n",
    "X_val = dummy_df.drop('avg_price_per_kg',axis=1)\n",
    "y_val = dummy_df['avg_price_per_kg']"
   ]
  },
  {
   "cell_type": "code",
   "execution_count": 49,
   "metadata": {},
   "outputs": [],
   "source": [
    "# create model object\n",
    "lm = LinearRegression()"
   ]
  },
  {
   "cell_type": "code",
   "execution_count": 51,
   "metadata": {},
   "outputs": [],
   "source": [
    "# split into train and test\n",
    "X_train, X_test, y_train, y_test = train_test_split(X_val, \n",
    "                                                    y_val, \n",
    "                                                    test_size=0.20, \n",
    "                                                    random_state=1)"
   ]
  },
  {
   "cell_type": "code",
   "execution_count": 52,
   "metadata": {},
   "outputs": [
    {
     "data": {
      "text/plain": [
       "LinearRegression(copy_X=True, fit_intercept=True, n_jobs=None, normalize=False)"
      ]
     },
     "execution_count": 52,
     "metadata": {},
     "output_type": "execute_result"
    }
   ],
   "source": [
    "# train model\n",
    "lm.fit(X_train, y_train)"
   ]
  },
  {
   "cell_type": "markdown",
   "metadata": {},
   "source": [
    "## Testing Model on unseen data"
   ]
  },
  {
   "cell_type": "code",
   "execution_count": null,
   "metadata": {},
   "outputs": [],
   "source": []
  },
  {
   "cell_type": "markdown",
   "metadata": {},
   "source": [
    "## Assessing Model accuracy"
   ]
  },
  {
   "cell_type": "code",
   "execution_count": 57,
   "metadata": {},
   "outputs": [],
   "source": [
    "# dictionary of results\n",
    "results_dict = {'Training MSE':\n",
    "                    {\n",
    "                        \"MSE\": mean_squared_error(y_train, lm.predict(X_train)), 'R2': r2_score(y_train, lm.predict(X_train))\n",
    "                    },\n",
    "                'Test MSE':\n",
    "                    {\n",
    "                        \"MSE\": mean_squared_error(y_test, lm.predict(X_test)), 'R2': r2_score(y_test, lm.predict(X_test))\n",
    "                    },\n",
    "                'Test RMSE':\n",
    "                    {\n",
    "                        \"MSE\": math.sqrt(mean_squared_error(y_test, lm.predict(X_test)))\n",
    "                    }\n",
    "                }"
   ]
  },
  {
   "cell_type": "code",
   "execution_count": 58,
   "metadata": {},
   "outputs": [],
   "source": [
    "# create dataframe from dictionary\n",
    "results_df = pd.DataFrame(data=results_dict)"
   ]
  },
  {
   "cell_type": "code",
   "execution_count": 59,
   "metadata": {},
   "outputs": [
    {
     "data": {
      "text/html": [
       "<div>\n",
       "<style scoped>\n",
       "    .dataframe tbody tr th:only-of-type {\n",
       "        vertical-align: middle;\n",
       "    }\n",
       "\n",
       "    .dataframe tbody tr th {\n",
       "        vertical-align: top;\n",
       "    }\n",
       "\n",
       "    .dataframe thead th {\n",
       "        text-align: right;\n",
       "    }\n",
       "</style>\n",
       "<table border=\"1\" class=\"dataframe\">\n",
       "  <thead>\n",
       "    <tr style=\"text-align: right;\">\n",
       "      <th></th>\n",
       "      <th>Training MSE</th>\n",
       "      <th>Test MSE</th>\n",
       "      <th>Test RMSE</th>\n",
       "    </tr>\n",
       "  </thead>\n",
       "  <tbody>\n",
       "    <tr>\n",
       "      <th>MSE</th>\n",
       "      <td>1.546734</td>\n",
       "      <td>1.705757</td>\n",
       "      <td>1.306047</td>\n",
       "    </tr>\n",
       "    <tr>\n",
       "      <th>R2</th>\n",
       "      <td>0.702619</td>\n",
       "      <td>0.617726</td>\n",
       "      <td>NaN</td>\n",
       "    </tr>\n",
       "  </tbody>\n",
       "</table>\n",
       "</div>"
      ],
      "text/plain": [
       "     Training MSE  Test MSE  Test RMSE\n",
       "MSE      1.546734  1.705757   1.306047\n",
       "R2       0.702619  0.617726        NaN"
      ]
     },
     "execution_count": 59,
     "metadata": {},
     "output_type": "execute_result"
    }
   ],
   "source": [
    "results_df"
   ]
  },
  {
   "cell_type": "markdown",
   "metadata": {},
   "source": [
    "## Conclusion"
   ]
  },
  {
   "cell_type": "code",
   "execution_count": null,
   "metadata": {},
   "outputs": [],
   "source": []
  }
 ],
 "metadata": {
  "kernelspec": {
   "display_name": "Python 3",
   "language": "python",
   "name": "python3"
  },
  "language_info": {
   "codemirror_mode": {
    "name": "ipython",
    "version": 3
   },
   "file_extension": ".py",
   "mimetype": "text/x-python",
   "name": "python",
   "nbconvert_exporter": "python",
   "pygments_lexer": "ipython3",
   "version": "3.7.3"
  }
 },
 "nbformat": 4,
 "nbformat_minor": 2
}
